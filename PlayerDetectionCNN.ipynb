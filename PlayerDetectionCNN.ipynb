{
 "cells": [
  {
   "cell_type": "code",
   "execution_count": 83,
   "metadata": {
    "collapsed": true
   },
   "outputs": [],
   "source": [
    "from tensorflow.keras.models import Sequential\n",
    "from tensorflow.keras.layers import Conv2D, MaxPooling2D, Flatten, Dense\n",
    "import numpy as np\n",
    "import matplotlib.pyplot as plt\n",
    "from tensorflow.keras.preprocessing.image import ImageDataGenerator"
   ]
  },
  {
   "attachments": {},
   "cell_type": "markdown",
   "metadata": {},
   "source": [
    "## Image preprocessing"
   ]
  },
  {
   "cell_type": "code",
   "execution_count": 84,
   "metadata": {},
   "outputs": [
    {
     "name": "stdout",
     "output_type": "stream",
     "text": [
      "Found 546 images belonging to 6 classes.\n",
      "Found 63 images belonging to 6 classes.\n"
     ]
    }
   ],
   "source": [
    "# Generate batches of tensor image data with real-time data augmentation.\n",
    "datagen = ImageDataGenerator(rescale=1./255, \n",
    "                                                     rotation_range=30,\n",
    "                                                    horizontal_flip=True)\n",
    "\n",
    "training_set=datagen.flow_from_directory(r\"training_set\", \n",
    "                                                target_size=(100,100), \n",
    "                                               batch_size=20,\n",
    "                                               class_mode = 'categorical')\n",
    "test_set=datagen.flow_from_directory(r\"test_set\", \n",
    "                                                target_size=(100,100), \n",
    "                                               batch_size=20,\n",
    "                                               class_mode = 'categorical')\n",
    "# class_mode='categorical' because we have more than 2 classses"
   ]
  },
  {
   "attachments": {},
   "cell_type": "markdown",
   "metadata": {},
   "source": [
    "## Making a CNN model"
   ]
  },
  {
   "cell_type": "code",
   "execution_count": 85,
   "metadata": {},
   "outputs": [
    {
     "name": "stdout",
     "output_type": "stream",
     "text": [
      "Model: \"sequential_6\"\n",
      "_________________________________________________________________\n",
      " Layer (type)                Output Shape              Param #   \n",
      "=================================================================\n",
      " conv2d_22 (Conv2D)          (None, 98, 98, 32)        896       \n",
      "                                                                 \n",
      " max_pooling2d_18 (MaxPoolin  (None, 49, 49, 32)       0         \n",
      " g2D)                                                            \n",
      "                                                                 \n",
      " conv2d_23 (Conv2D)          (None, 47, 47, 64)        18496     \n",
      "                                                                 \n",
      " max_pooling2d_19 (MaxPoolin  (None, 23, 23, 64)       0         \n",
      " g2D)                                                            \n",
      "                                                                 \n",
      " conv2d_24 (Conv2D)          (None, 21, 21, 128)       73856     \n",
      "                                                                 \n",
      " max_pooling2d_20 (MaxPoolin  (None, 10, 10, 128)      0         \n",
      " g2D)                                                            \n",
      "                                                                 \n",
      " flatten_6 (Flatten)         (None, 12800)             0         \n",
      "                                                                 \n",
      " dense_14 (Dense)            (None, 150)               1920150   \n",
      "                                                                 \n",
      " dense_15 (Dense)            (None, 50)                7550      \n",
      "                                                                 \n",
      " dense_16 (Dense)            (None, 6)                 306       \n",
      "                                                                 \n",
      "=================================================================\n",
      "Total params: 2,021,254\n",
      "Trainable params: 2,021,254\n",
      "Non-trainable params: 0\n",
      "_________________________________________________________________\n"
     ]
    }
   ],
   "source": [
    "model = Sequential()\n",
    "model.add(Conv2D(32,(3,3),activation='relu', input_shape=(100,100,3)))\n",
    "model.add(MaxPooling2D(2,2))\n",
    "#model.add(BatchNormalization(synchronized= True))\n",
    "model.add(Conv2D(64,(3,3),activation='relu'))\n",
    "model.add(MaxPooling2D(2,2))\n",
    "model.add(Conv2D(128,(3,3),activation='relu'))\n",
    "model.add(MaxPooling2D(2,2))\n",
    "model.add(Flatten())\n",
    "model.add(Dense(150, activation='relu'))\n",
    "model.add(Dense(50, activation='relu'))\n",
    "model.add(Dense(6, activation='softmax'))\n",
    "model.summary()"
   ]
  },
  {
   "attachments": {},
   "cell_type": "markdown",
   "metadata": {},
   "source": [
    "## Params \n"
   ]
  },
  {
   "attachments": {},
   "cell_type": "markdown",
   "metadata": {},
   "source": [
    "For CNN    -\n",
    "previous layer filters * (current layers filters * filter size *) + bias of current layer\n",
    "\n",
    "For ANN    - \n",
    "previous layer neurons * current layer neurons + bias of current layer"
   ]
  },
  {
   "cell_type": "code",
   "execution_count": 6,
   "metadata": {},
   "outputs": [
    {
     "name": "stdout",
     "output_type": "stream",
     "text": [
      "896\n",
      "18496\n",
      "73856\n",
      "1920150\n",
      "7550\n",
      "306\n"
     ]
    }
   ],
   "source": [
    "print(3*(32*3*3)+32)\n",
    "print(32*(64*3*3)+64)\n",
    "print(64*(128*3*3)+128)\n",
    "print(12800*150+150)\n",
    "print(150*50+50)\n",
    "print(50*6+6)"
   ]
  },
  {
   "cell_type": "code",
   "execution_count": 86,
   "metadata": {
    "collapsed": true
   },
   "outputs": [],
   "source": [
    "model.compile(optimizer='adam', loss='categorical_crossentropy',metrics=['accuracy'])"
   ]
  },
  {
   "attachments": {},
   "cell_type": "markdown",
   "metadata": {},
   "source": [
    "Early stopping to decide number of epochs"
   ]
  },
  {
   "cell_type": "code",
   "execution_count": 87,
   "metadata": {},
   "outputs": [],
   "source": [
    "from tensorflow.keras.callbacks import EarlyStopping"
   ]
  },
  {
   "cell_type": "code",
   "execution_count": 88,
   "metadata": {},
   "outputs": [],
   "source": [
    "early_stopping = EarlyStopping(monitor='accuracy', patience=2)"
   ]
  },
  {
   "attachments": {},
   "cell_type": "markdown",
   "metadata": {},
   "source": [
    "## Training the model"
   ]
  },
  {
   "cell_type": "code",
   "execution_count": 89,
   "metadata": {
    "scrolled": true
   },
   "outputs": [
    {
     "name": "stdout",
     "output_type": "stream",
     "text": [
      "Epoch 1/20\n",
      "28/28 [==============================] - 7s 220ms/step - loss: 1.7889 - accuracy: 0.1978 - val_loss: 1.7788 - val_accuracy: 0.3016\n",
      "Epoch 2/20\n",
      "28/28 [==============================] - 6s 218ms/step - loss: 1.7477 - accuracy: 0.2766 - val_loss: 1.6432 - val_accuracy: 0.3810\n",
      "Epoch 3/20\n",
      "28/28 [==============================] - 6s 216ms/step - loss: 1.5613 - accuracy: 0.3956 - val_loss: 1.4393 - val_accuracy: 0.4762\n",
      "Epoch 4/20\n",
      "28/28 [==============================] - 6s 225ms/step - loss: 1.3895 - accuracy: 0.4304 - val_loss: 1.4247 - val_accuracy: 0.4444\n",
      "Epoch 5/20\n",
      "28/28 [==============================] - 6s 224ms/step - loss: 1.3395 - accuracy: 0.4579 - val_loss: 1.3985 - val_accuracy: 0.5238\n",
      "Epoch 6/20\n",
      "28/28 [==============================] - 6s 224ms/step - loss: 1.2911 - accuracy: 0.4872 - val_loss: 1.2654 - val_accuracy: 0.5714\n",
      "Epoch 7/20\n",
      "28/28 [==============================] - 6s 216ms/step - loss: 1.1558 - accuracy: 0.5495 - val_loss: 1.2932 - val_accuracy: 0.5714\n",
      "Epoch 8/20\n",
      "28/28 [==============================] - 6s 219ms/step - loss: 1.0677 - accuracy: 0.5989 - val_loss: 1.1054 - val_accuracy: 0.6667\n",
      "Epoch 9/20\n",
      "28/28 [==============================] - 6s 221ms/step - loss: 1.0077 - accuracy: 0.6264 - val_loss: 1.2649 - val_accuracy: 0.5238\n",
      "Epoch 10/20\n",
      "28/28 [==============================] - 6s 222ms/step - loss: 0.9613 - accuracy: 0.6245 - val_loss: 1.1131 - val_accuracy: 0.6349\n",
      "Epoch 11/20\n",
      "28/28 [==============================] - 6s 217ms/step - loss: 0.9402 - accuracy: 0.6520 - val_loss: 1.0929 - val_accuracy: 0.5873\n",
      "Epoch 12/20\n",
      "28/28 [==============================] - 6s 210ms/step - loss: 0.8619 - accuracy: 0.6813 - val_loss: 1.2434 - val_accuracy: 0.6032\n",
      "Epoch 13/20\n",
      "28/28 [==============================] - 6s 218ms/step - loss: 0.8277 - accuracy: 0.6886 - val_loss: 1.1445 - val_accuracy: 0.6032\n",
      "Epoch 14/20\n",
      "28/28 [==============================] - 6s 216ms/step - loss: 0.7608 - accuracy: 0.7143 - val_loss: 1.2100 - val_accuracy: 0.6190\n",
      "Epoch 15/20\n",
      "28/28 [==============================] - 6s 217ms/step - loss: 0.7416 - accuracy: 0.7161 - val_loss: 1.2573 - val_accuracy: 0.6032\n",
      "Epoch 16/20\n",
      "28/28 [==============================] - 6s 211ms/step - loss: 0.7581 - accuracy: 0.7234 - val_loss: 1.2686 - val_accuracy: 0.6349\n",
      "Epoch 17/20\n",
      "28/28 [==============================] - 6s 217ms/step - loss: 0.6321 - accuracy: 0.7637 - val_loss: 1.1078 - val_accuracy: 0.6508\n",
      "Epoch 18/20\n",
      "28/28 [==============================] - 6s 210ms/step - loss: 0.5984 - accuracy: 0.7985 - val_loss: 1.1247 - val_accuracy: 0.6508\n",
      "Epoch 19/20\n",
      "28/28 [==============================] - 6s 217ms/step - loss: 0.5775 - accuracy: 0.7875 - val_loss: 1.2192 - val_accuracy: 0.6032\n",
      "Epoch 20/20\n",
      "28/28 [==============================] - 6s 215ms/step - loss: 0.5597 - accuracy: 0.7912 - val_loss: 1.2562 - val_accuracy: 0.6667\n"
     ]
    },
    {
     "data": {
      "text/plain": [
       "<keras.callbacks.History at 0x277eb87df90>"
      ]
     },
     "execution_count": 89,
     "metadata": {},
     "output_type": "execute_result"
    }
   ],
   "source": [
    "model.fit(training_set, epochs=20, validation_data=test_set,callbacks=[early_stopping])"
   ]
  },
  {
   "cell_type": "code",
   "execution_count": 93,
   "metadata": {},
   "outputs": [
    {
     "data": {
      "text/plain": [
       "{'Dhoni': 0, 'Sachin': 1, 'Sky': 2, 'Smriti': 3, 'Virat': 4, 'Yuzi': 5}"
      ]
     },
     "execution_count": 93,
     "metadata": {},
     "output_type": "execute_result"
    }
   ],
   "source": [
    "training_set.class_indices"
   ]
  },
  {
   "attachments": {},
   "cell_type": "markdown",
   "metadata": {},
   "source": [
    "## Saving model"
   ]
  },
  {
   "cell_type": "code",
   "execution_count": 120,
   "metadata": {
    "collapsed": true
   },
   "outputs": [],
   "source": [
    "model.save('FinalModel.h5')"
   ]
  },
  {
   "cell_type": "code",
   "execution_count": null,
   "metadata": {},
   "outputs": [],
   "source": []
  }
 ],
 "metadata": {
  "kernelspec": {
   "display_name": "Python 3",
   "language": "python",
   "name": "python3"
  },
  "language_info": {
   "codemirror_mode": {
    "name": "ipython",
    "version": 3
   },
   "file_extension": ".py",
   "mimetype": "text/x-python",
   "name": "python",
   "nbconvert_exporter": "python",
   "pygments_lexer": "ipython3",
   "version": "3.11.3"
  }
 },
 "nbformat": 4,
 "nbformat_minor": 2
}
